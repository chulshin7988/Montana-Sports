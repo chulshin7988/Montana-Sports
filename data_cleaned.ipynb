{
 "cells": [
  {
   "cell_type": "markdown",
   "id": "174476dd",
   "metadata": {},
   "source": [
    "## Excel file import\n",
    "\n",
    "* Read in data for yogerpresso excel file\n",
    "* Assign intuitive variable names for each worksheet"
   ]
  },
  {
   "cell_type": "code",
   "execution_count": 1,
   "id": "421b5d43",
   "metadata": {},
   "outputs": [],
   "source": [
    "import openpyxl as xl\n",
    "workbook = xl.load_workbook(filename = 'yogerpresso_data.xlsx')"
   ]
  },
  {
   "cell_type": "code",
   "execution_count": 2,
   "id": "625d542f",
   "metadata": {},
   "outputs": [],
   "source": [
    "import Exchange_Tax_calculator"
   ]
  },
  {
   "cell_type": "code",
   "execution_count": 3,
   "id": "24621f84",
   "metadata": {},
   "outputs": [],
   "source": [
    "products = workbook['products']\n",
    "inventory = workbook['inventory']\n",
    "orders = workbook['orders']"
   ]
  },
  {
   "cell_type": "markdown",
   "id": "886df9ca",
   "metadata": {},
   "source": [
    "## Data inserting and cleaning"
   ]
  },
  {
   "cell_type": "markdown",
   "id": "e8f9f349",
   "metadata": {},
   "source": [
    "* Create a status column for inventory"
   ]
  },
  {
   "cell_type": "code",
   "execution_count": 4,
   "id": "059a10e9",
   "metadata": {},
   "outputs": [],
   "source": [
    "for i, cell in enumerate(inventory['B'], start = 1):\n",
    "    if i == 1:\n",
    "        inventory[f'C{i}'] = 'Inventory Status'\n",
    "    elif cell.value > 5:\n",
    "        inventory[f'C{i}'] = 'Healthy Stock'\n",
    "    elif cell.value > 0:\n",
    "        inventory[f'C{i}'] = 'Low Stock'\n",
    "    else:\n",
    "        inventory[f'C{i}'] = 'Out of Stock'"
   ]
  },
  {
   "cell_type": "markdown",
   "id": "a0663bfa",
   "metadata": {},
   "source": [
    "* Calculate Euro Price by manipulating column 'C' using **currency_converter** function"
   ]
  },
  {
   "cell_type": "code",
   "execution_count": 5,
   "id": "b395e7e3",
   "metadata": {},
   "outputs": [],
   "source": [
    "products['E1'] = 'Euro Price'\n",
    "\n",
    "ex_rate = 0.93\n",
    "\n",
    "for row in range(2, products.max_row + 1):\n",
    "    products['E' + str(row)] = Exchange_Tax_calculator.currency_converter(\n",
    "        products['C' + str(row)].value, ex_rate)"
   ]
  },
  {
   "cell_type": "markdown",
   "id": "c105755b",
   "metadata": {},
   "source": [
    "* Create new columns for **sales tax** and **total** in the orders worksheet"
   ]
  },
  {
   "cell_type": "code",
   "execution_count": 6,
   "id": "ceaf9ebc",
   "metadata": {},
   "outputs": [],
   "source": [
    "orders.insert_cols(idx=5)\n",
    "orders['E1'] = 'Sales Tax'\n",
    "orders.insert_cols(idx=6)\n",
    "orders['F1'] = 'Total'"
   ]
  },
  {
   "cell_type": "markdown",
   "id": "0f2add24",
   "metadata": {},
   "source": [
    "* Create a dictionary with all of the information contained in the 'orders' worksheet"
   ]
  },
  {
   "cell_type": "code",
   "execution_count": 7,
   "id": "9962baf4",
   "metadata": {},
   "outputs": [],
   "source": [
    "order_dict = {\n",
    "    orders[f'A{order}'].value:[\n",
    "        orders[f'B{order}'].value,\n",
    "        orders[f'C{order}'].value,\n",
    "        orders[f'D{order}'].value,\n",
    "        orders[f'G{order}'].value,\n",
    "        str(orders[f'H{order}'].value).split(', ')\n",
    "    ]\n",
    "    for order in range(2, orders.max_row + 1)\n",
    "}"
   ]
  },
  {
   "cell_type": "markdown",
   "id": "65f8cf9e",
   "metadata": {},
   "source": [
    "## Sales Tax Calculation\n",
    "\n",
    "* Apply different tax rates depending on the locations using **tax_calculator** function\n",
    "* Write the amount of the **sales tax** and the **total** into the excel sheet"
   ]
  },
  {
   "cell_type": "code",
   "execution_count": 8,
   "id": "9d2815b8",
   "metadata": {},
   "outputs": [],
   "source": [
    "from Exchange_Tax_calculator import tax_calculator\n",
    "\n",
    "for order in order_dict.values():\n",
    "    if order[3] == 'Silver Spring':\n",
    "        transaction = tax_calculator(order[2], .08)\n",
    "    elif order[3] == 'German Town':\n",
    "        transaction = tax_calculator(order[2], .0775)\n",
    "    elif order[3] == 'Oxford':\n",
    "        transaction = tax_calculator(order[2], .07)\n",
    "    else:\n",
    "        transaction = tax_calculator(order[2], .06)\n",
    "    order.insert(3, transaction[1])\n",
    "    order.insert(4, transaction[2])"
   ]
  },
  {
   "cell_type": "code",
   "execution_count": 9,
   "id": "432822cf",
   "metadata": {},
   "outputs": [],
   "source": [
    "for index, order in enumerate(order_dict.values(), start=2): \n",
    "    orders[f'E{index}'] = order[3]\n",
    "    orders[f'F{index}'] = order[4]"
   ]
  },
  {
   "cell_type": "markdown",
   "id": "180a2e33",
   "metadata": {},
   "source": [
    "## Saving the workbook in a new file"
   ]
  },
  {
   "cell_type": "code",
   "execution_count": 10,
   "id": "d8bfcaca",
   "metadata": {},
   "outputs": [],
   "source": [
    "workbook.save('yogerpresso_data_cleaned.xlsx')"
   ]
  }
 ],
 "metadata": {
  "kernelspec": {
   "display_name": "Python 3 (ipykernel)",
   "language": "python",
   "name": "python3"
  },
  "language_info": {
   "codemirror_mode": {
    "name": "ipython",
    "version": 3
   },
   "file_extension": ".py",
   "mimetype": "text/x-python",
   "name": "python",
   "nbconvert_exporter": "python",
   "pygments_lexer": "ipython3",
   "version": "3.9.13"
  }
 },
 "nbformat": 4,
 "nbformat_minor": 5
}
