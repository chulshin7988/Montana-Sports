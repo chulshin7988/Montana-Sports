{
 "cells": [
  {
   "cell_type": "markdown",
   "id": "6894f9a5",
   "metadata": {},
   "source": [
    "## Excel file import\n",
    "\n",
    "* Read in cleaned data for yogerpresso excel file\n",
    "* Assign intuitive variable names for each worksheet"
   ]
  },
  {
   "cell_type": "code",
   "execution_count": 1,
   "id": "5344195f",
   "metadata": {},
   "outputs": [],
   "source": [
    "import openpyxl as xl\n",
    "workbook = xl.load_workbook(filename = 'yogerpresso_data_cleaned.xlsx')"
   ]
  },
  {
   "cell_type": "code",
   "execution_count": 2,
   "id": "be1c8f29",
   "metadata": {},
   "outputs": [],
   "source": [
    "import Exchange_Tax_calculator"
   ]
  },
  {
   "cell_type": "code",
   "execution_count": 3,
   "id": "07c0a8b5",
   "metadata": {},
   "outputs": [],
   "source": [
    "products = workbook['products']\n",
    "inventory = workbook['inventory']\n",
    "orders = workbook['orders']"
   ]
  },
  {
   "cell_type": "code",
   "execution_count": 4,
   "id": "53011a7b",
   "metadata": {},
   "outputs": [],
   "source": [
    "#Dictionary with Order_ID as Keys and the rest as values stored in a list\n",
    "#Used split on column H texts to create a list \n",
    "\n",
    "order_dictionary = {\n",
    "    orders[f'A{order}'].value:[\n",
    "        orders[f'B{order}'].value,\n",
    "        orders[f'C{order}'].value,\n",
    "        orders[f'D{order}'].value,\n",
    "        orders[f'E{order}'].value,\n",
    "        orders[f'F{order}'].value,\n",
    "        orders[f'G{order}'].value,\n",
    "        str(orders[f'H{order}'].value).split(', ')\n",
    "    ]\n",
    "    for order in range(2, orders.max_row + 1)\n",
    "}"
   ]
  },
  {
   "cell_type": "markdown",
   "id": "9f586fcf",
   "metadata": {},
   "source": [
    "## Data Analysis\n",
    "\n",
    "* Create a function that takes **index** and **dictionary** as an argument\n",
    "* Print out the sum of **Subtotals**, **Taxes**, and **Totals**"
   ]
  },
  {
   "cell_type": "code",
   "execution_count": 5,
   "id": "425bd150",
   "metadata": {},
   "outputs": [
    {
     "name": "stdout",
     "output_type": "stream",
     "text": [
      "The sum of subtotals:  449.46\n",
      "The sum of taxes:  30.67\n",
      "The sub of totals:  480.13\n"
     ]
    }
   ],
   "source": [
    "def sumOfColumns(index, dictionary):\n",
    "    return round(sum([value[index] for value in dictionary.values()]), 2)\n",
    "\n",
    "print('The sum of subtotals: ' , sumOfColumns(2, order_dictionary))\n",
    "print('The sum of taxes: ' , sumOfColumns(3, order_dictionary))\n",
    "print('The sub of totals: ' , sumOfColumns(4, order_dictionary))"
   ]
  },
  {
   "cell_type": "markdown",
   "id": "dcd99e90",
   "metadata": {},
   "source": [
    "* Calculate the average value of the transactions"
   ]
  },
  {
   "cell_type": "code",
   "execution_count": 6,
   "id": "96d47ebb",
   "metadata": {},
   "outputs": [
    {
     "data": {
      "text/plain": [
       "16.65"
      ]
     },
     "execution_count": 6,
     "metadata": {},
     "output_type": "execute_result"
    }
   ],
   "source": [
    "round(sumOfColumns(2, order_dictionary) / len(order_dictionary), 2)"
   ]
  },
  {
   "cell_type": "markdown",
   "id": "7da72cf6",
   "metadata": {},
   "source": [
    "* Calculate the total number of unique customers\n",
    "* Calculate the number of orders per customer"
   ]
  },
  {
   "cell_type": "code",
   "execution_count": 7,
   "id": "77a6d383",
   "metadata": {
    "scrolled": true
   },
   "outputs": [
    {
     "name": "stdout",
     "output_type": "stream",
     "text": [
      "There are 19 unique customers.\n",
      "The average of orders per customer is around 1.42\n"
     ]
    }
   ],
   "source": [
    "#Creating a set function to return only unique customers\n",
    "unique_customers = len(set([value[0] for value in order_dictionary.values()]))\n",
    "\n",
    "#Dividing the total number of orders by the unique customers\n",
    "orders_per_customer = len(order_dictionary) / unique_customers\n",
    "\n",
    "print('There are', unique_customers, 'unique customers.')\n",
    "print('The average of orders per customer is around', round(orders_per_customer, 2))"
   ]
  },
  {
   "cell_type": "markdown",
   "id": "58dc5af9",
   "metadata": {},
   "source": [
    "* Calculate the sum of subtotals by each location"
   ]
  },
  {
   "cell_type": "code",
   "execution_count": 11,
   "id": "a887cd2b",
   "metadata": {},
   "outputs": [
    {
     "data": {
      "text/plain": [
       "{'Silver Spring': 42.690000000000005,\n",
       " 'German Town': 97.3,\n",
       " 'Rockville': 193.2,\n",
       " 'Oxford': 116.27}"
      ]
     },
     "execution_count": 11,
     "metadata": {},
     "output_type": "execute_result"
    }
   ],
   "source": [
    "# create an empty dictionary\n",
    "location_sums = {}\n",
    "\n",
    "# looping through the dictionary values\n",
    "for data in order_dictionary.values():\n",
    "    \n",
    "    # set location variable as a key value\n",
    "    location = data[5]\n",
    "    \n",
    "    # if that location is not yet in location_sums\n",
    "    if location not in location_sums:\n",
    "        \n",
    "        # create dictionary entry\n",
    "        location_sums[location] = 0\n",
    "        \n",
    "    # Then increment by subtotal\n",
    "    location_sums[location] += data[2]\n",
    "        \n",
    "location_sums"
   ]
  }
 ],
 "metadata": {
  "kernelspec": {
   "display_name": "Python 3 (ipykernel)",
   "language": "python",
   "name": "python3"
  },
  "language_info": {
   "codemirror_mode": {
    "name": "ipython",
    "version": 3
   },
   "file_extension": ".py",
   "mimetype": "text/x-python",
   "name": "python",
   "nbconvert_exporter": "python",
   "pygments_lexer": "ipython3",
   "version": "3.9.13"
  }
 },
 "nbformat": 4,
 "nbformat_minor": 5
}
