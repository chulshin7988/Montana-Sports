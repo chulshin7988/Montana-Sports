{
 "cells": [
  {
   "cell_type": "code",
   "execution_count": 1,
   "id": "dc25baf0",
   "metadata": {},
   "outputs": [
    {
     "name": "stdout",
     "output_type": "stream",
     "text": [
      "Writing Exchange_Tax_calculator.py\n"
     ]
    }
   ],
   "source": [
    "%%writefile Exchange_Tax_calculator.py\n",
    "\n",
    "def tax_calculator(subtotal, sales_tax = 0.06):\n",
    "    \"\"\"\n",
    "        takes in a subtotal and tax rate and returns [subtotal, tax, total]\n",
    "    \"\"\"\n",
    "    tax = round(subtotal * sales_tax, 2)\n",
    "    total = round(subtotal + tax, 2)\n",
    "    return [subtotal, tax, total]\n",
    "\n",
    "def currency_converter(price, ex_rate = 0.93):\n",
    "    return round(price * ex_rate, 2)"
   ]
  },
  {
   "cell_type": "code",
   "execution_count": null,
   "id": "b4c781a8",
   "metadata": {},
   "outputs": [],
   "source": []
  }
 ],
 "metadata": {
  "kernelspec": {
   "display_name": "Python 3 (ipykernel)",
   "language": "python",
   "name": "python3"
  },
  "language_info": {
   "codemirror_mode": {
    "name": "ipython",
    "version": 3
   },
   "file_extension": ".py",
   "mimetype": "text/x-python",
   "name": "python",
   "nbconvert_exporter": "python",
   "pygments_lexer": "ipython3",
   "version": "3.9.13"
  }
 },
 "nbformat": 4,
 "nbformat_minor": 5
}
